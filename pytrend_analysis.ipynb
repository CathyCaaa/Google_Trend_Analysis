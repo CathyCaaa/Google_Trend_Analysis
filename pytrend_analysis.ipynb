{
 "cells": [
  {
   "cell_type": "code",
   "execution_count": null,
   "metadata": {},
   "outputs": [],
   "source": [
    "import tensorflow as tf\n",
    "import numpy as np\n",
    "import pandas as pd\n",
    "import matplotlib.pyplot as plt\n",
    "import math\n",
    "from keras.models import Sequential\n",
    "from keras.layers import Dense, LSTM\n",
    "from keras.layers import *\n",
    "from sklearn.preprocessing import MinMaxScaler \n",
    "from sklearn.metrics import mean_squared_error\n",
    "from keras.callbacks import EarlyStopping\n",
    "from statsmodels.graphics.tsaplots import plot_acf,plot_pacf\n",
    "from  scipy import stats\n",
    "from statsmodels.api import qqplot\n",
    "import statsmodels.api as sm"
   ]
  },
  {
   "cell_type": "code",
   "execution_count": null,
   "metadata": {},
   "outputs": [],
   "source": [
    "from google.colab import files\n",
    "import pandas as pd\n",
    "import os \n",
    "files.upload()  "
   ]
  },
  {
   "cell_type": "code",
   "execution_count": null,
   "metadata": {},
   "outputs": [],
   "source": []
  },
  {
   "cell_type": "code",
   "execution_count": null,
   "metadata": {},
   "outputs": [],
   "source": [
    "data = pd.read_csv('data_u.csv',usecols=[4])\n",
    "data = data/100\n",
    "###2020/01/01 - 2020/04/30###\n",
    "train = data.head(90)\n",
    "###2020/05/01 - 2020/05/31###\n",
    "test = data.tail(31)\n",
    "train.head(5)"
   ]
  },
  {
   "cell_type": "code",
   "execution_count": null,
   "metadata": {},
   "outputs": [],
   "source": [
    "sm.graphics.tsa.plot_acf(data, lags = 12)\n",
    "plt.show()\n",
    "sm.graphics.tsa.plot_pacf(data, lags = 12)\n",
    "plt.show()\n",
    "plt.plot(data)\n",
    "plt.show()"
   ]
  },
  {
   "cell_type": "code",
   "execution_count": null,
   "metadata": {},
   "outputs": [],
   "source": [
    "np.random.seed(123)\n",
    "###convert int to float###\n",
    "data = data.values\n",
    "data = data.astype('float32')\n",
    "# scaler = MinMaxScaler(feature_range=(0,1))\n",
    "# data = scaler.fit_transform(data)\n",
    "train = train.values\n",
    "train = train.astype('float32')\n",
    "\n",
    "# scaler = MinMaxScaler(feature_range=(0,1))\n",
    "# train = scaler.fit_transform(train)\n",
    "\n",
    "test = test.values\n",
    "test = test.astype('float32')\n",
    "\n",
    "# scaler = MinMaxScaler(feature_range=(0,1))\n",
    "# test = scaler.fit_transform(test)"
   ]
  },
  {
   "cell_type": "code",
   "execution_count": null,
   "metadata": {},
   "outputs": [],
   "source": [
    "def create_dataset(data, look_back = 1):\n",
    "  dataX,dataY = [],[]\n",
    "  for i in range(len(data)- look_back):\n",
    "    a = data[i:(i+look_back), 0]\n",
    "    dataX.append(a)\n",
    "    dataY.append(data[i+look_back, 0])\n",
    "  return np.array(dataX), np.array(dataY)"
   ]
  },
  {
   "cell_type": "code",
   "execution_count": null,
   "metadata": {},
   "outputs": [],
   "source": [
    "look_back = 2\n",
    "trainX,trainY = create_dataset(train, look_back)\n",
    "testX,testY = create_dataset(test, look_back)"
   ]
  },
  {
   "cell_type": "code",
   "execution_count": null,
   "metadata": {},
   "outputs": [],
   "source": [
    "trainX = np.reshape(trainX, (trainX.shape[0], 1, trainX.shape[1]))\n",
    "testX = np.reshape(testX, (testX.shape[0], 1, testX.shape[1]))"
   ]
  },
  {
   "cell_type": "code",
   "execution_count": null,
   "metadata": {},
   "outputs": [],
   "source": [
    "model = Sequential()\n",
    "model.add(LSTM(4, input_shape =(1,look_back)))\n",
    "model.add(Dense(1))\n",
    "model.compile(loss='mean_squared_error', optimizer='adam')\n",
    "model.fit(trainX, trainY, epochs = 100, batch_size = 1, verbose = 2)\n",
    "model.summary()"
   ]
  },
  {
   "cell_type": "code",
   "execution_count": null,
   "metadata": {},
   "outputs": [],
   "source": [
    "# make predictions\n",
    "trainPredict = model.predict(trainX)\n",
    "testPredict = model.predict(testX)\n",
    "\n",
    "# trainPredict = scaler.inverse_transform(trainPredict)\n",
    "# trainY = scaler.inverse_transform([trainY])\n",
    "# testPredict = scaler.inverse_transform(testPredict)\n",
    "# testY = scaler.inverse_transform([testY])\n",
    "\n",
    "# scale inverse\n",
    "trainPredict = trainPredict*100\n",
    "trainY = trainY*100\n",
    "testPredict = testPredict*100\n",
    "testY = testY*100"
   ]
  },
  {
   "cell_type": "code",
   "execution_count": null,
   "metadata": {},
   "outputs": [],
   "source": [
    "# calculate root mean squared error\n",
    "trainScore = math.sqrt(mean_squared_error(trainY, trainPredict[:,0]))\n",
    "#print('Train Score: %.2f RMSE' % (trainScore))\n",
    "testScore = math.sqrt(mean_squared_error(testY, testPredict[:,0]))\n",
    "print('Test Score: %.2f RMSE' % (testScore))"
   ]
  },
  {
   "cell_type": "code",
   "execution_count": null,
   "metadata": {},
   "outputs": [],
   "source": [
    "#trainPredictPlot = data\n",
    "# trainPredictPlot[:, :] = np.nan\n",
    "# trainPredictPlot[look_back:len(trainPredict)+look_back, :] = trainPredict\n",
    "# shift test predictions for plotting\n",
    "#testPredictPlot = data\n",
    "# testPredictPlot[:, :] = np.nan\n",
    "# testPredictPlot[len(trainPredict)+(look_back*2)+1:len(data)-1, :] = testPredict\n",
    "#plot baseline and predictions\n",
    "plt.plot(test*100)\n",
    "plt.plot(testPredict)\n",
    "#plt.plot(testPredict)\n",
    "plt.show()"
   ]
  }
 ],
 "metadata": {
  "kernelspec": {
   "display_name": "Python 3",
   "language": "python",
   "name": "python3"
  },
  "language_info": {
   "codemirror_mode": {
    "name": "ipython",
    "version": 3
   },
   "file_extension": ".py",
   "mimetype": "text/x-python",
   "name": "python",
   "nbconvert_exporter": "python",
   "pygments_lexer": "ipython3",
   "version": "3.7.6"
  }
 },
 "nbformat": 4,
 "nbformat_minor": 4
}
